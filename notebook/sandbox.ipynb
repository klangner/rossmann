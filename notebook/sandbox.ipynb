{
 "cells": [
  {
   "cell_type": "code",
   "execution_count": 22,
   "metadata": {
    "collapsed": true
   },
   "outputs": [],
   "source": [
    "import pandas as pd\n",
    "import numpy as np\n",
    "from sklearn import cross_validation\n",
    "from sklearn.linear_model import LinearRegression"
   ]
  },
  {
   "cell_type": "markdown",
   "metadata": {},
   "source": [
    "## Load training set"
   ]
  },
  {
   "cell_type": "code",
   "execution_count": 23,
   "metadata": {
    "collapsed": false
   },
   "outputs": [],
   "source": [
    "train = pd.read_csv(\"../data/train.csv\", dtype={'StateHoliday': str}, parse_dates=[\"Date\"])\n",
    "train = train.loc[train.Sales > 0]\n",
    "train['month'] = train['Date'].dt.month\n",
    "train['day'] = train['Date'].dt.day\n",
    "columns = ['DayOfWeek'] #['Store', 'DayOfWeek', 'Promo']"
   ]
  },
  {
   "cell_type": "markdown",
   "metadata": {},
   "source": [
    "## Cross validate median"
   ]
  },
  {
   "cell_type": "code",
   "execution_count": 14,
   "metadata": {
    "collapsed": false
   },
   "outputs": [
    {
     "name": "stdout",
     "output_type": "stream",
     "text": [
      "RMSPE=0.505686\n"
     ]
    }
   ],
   "source": [
    "(cv_train, cv_test) = cross_validation.train_test_split(train)\n",
    "median = cv_train['Sales'].median()\n",
    "cv_medians = cv_train.groupby( columns )['Sales'].median()\n",
    "cv_medians = cv_medians.reset_index()\n",
    "cv_medians.rename(columns={'Sales': 'Sales2'}, inplace=True)\n",
    "cv_test = pd.merge( cv_test, cv_medians, on = columns, how = 'left' )\n",
    "cv_medians['Sales2'].fillna(median)\n",
    "\n",
    "spe = ((cv_test['Sales']-cv_test['Sales2'])/cv_test['Sales'])**2.0\n",
    "mspe = spe.sum()/len(spe)\n",
    "rmspe = np.sqrt(mspe)\n",
    "print(\"RMSPE=%f\" % rmspe)"
   ]
  },
  {
   "cell_type": "markdown",
   "metadata": {},
   "source": [
    "## Sparse matrix"
   ]
  },
  {
   "cell_type": "code",
   "execution_count": 31,
   "metadata": {
    "collapsed": false
   },
   "outputs": [
    {
     "name": "stdout",
     "output_type": "stream",
     "text": [
      "RMSPE=0.586477\n"
     ]
    }
   ],
   "source": [
    "(cv_train, cv_test) = cross_validation.train_test_split(train)\n",
    "dow = cv_train['DayOfWeek']\n",
    "X = pd.DataFrame({'1' : dow == 1, '2': dow == 2, '3': dow == 3, \n",
    "                  '4': dow == 4, '5': dow == 5, '6': dow == 6, '7': dow == 7})\n",
    "dow2 = cv_test['DayOfWeek']\n",
    "X2 = pd.DataFrame({'1' : dow2 == 1, '2': dow2 == 2, '3': dow2 == 3, \n",
    "                  '4': dow2 == 4, '5': dow2 == 5, '6': dow2 == 6, '7': dow2 == 7})\n",
    "classifier = LinearRegression()\n",
    "classifier.fit(X, cv_train['Sales'])\n",
    "y = classifier.predict(X2)\n",
    "\n",
    "\n",
    "spe = ((cv_test['Sales']-y)/cv_test['Sales'])**2.0\n",
    "mspe = spe.sum()/len(spe)\n",
    "rmspe = np.sqrt(mspe)\n",
    "print(\"RMSPE=%f\" % rmspe)"
   ]
  },
  {
   "cell_type": "markdown",
   "metadata": {},
   "source": [
    "Nic to nie dało. Mediana ciągle jest lepszym modelem. Takie podejście chyba bliżej jest średniej"
   ]
  }
 ],
 "metadata": {
  "kernelspec": {
   "display_name": "Python 3",
   "language": "python",
   "name": "python3"
  },
  "language_info": {
   "codemirror_mode": {
    "name": "ipython",
    "version": 3
   },
   "file_extension": ".py",
   "mimetype": "text/x-python",
   "name": "python",
   "nbconvert_exporter": "python",
   "pygments_lexer": "ipython3",
   "version": "3.4.3"
  }
 },
 "nbformat": 4,
 "nbformat_minor": 0
}
