{
 "cells": [
  {
   "cell_type": "code",
   "execution_count": 1,
   "metadata": {
    "collapsed": true
   },
   "outputs": [],
   "source": [
    "import pandas as pd\n",
    "import numpy as np\n",
    "from sklearn import cross_validation\n",
    "from sklearn import tree"
   ]
  },
  {
   "cell_type": "markdown",
   "metadata": {},
   "source": [
    "## Calculate median value based on training set"
   ]
  },
  {
   "cell_type": "code",
   "execution_count": 2,
   "metadata": {
    "collapsed": false
   },
   "outputs": [],
   "source": [
    "train = pd.read_csv(\"../data/train.csv\", dtype={'StateHoliday': str}, parse_dates=[\"Date\"])\n",
    "train = train.loc[train.Sales > 0]\n",
    "train['month'] = train['Date'].dt.month\n",
    "train['day'] = train['Date'].dt.day\n",
    "columns = ['Store', 'DayOfWeek', 'Promo']\n",
    "dt = tree.DecisionTreeRegressor()\n",
    "model = dt.fit(train[columns], train['Sales'])"
   ]
  },
  {
   "cell_type": "markdown",
   "metadata": {},
   "source": [
    "## Prepare solution data with median value"
   ]
  },
  {
   "cell_type": "code",
   "execution_count": 4,
   "metadata": {
    "collapsed": false
   },
   "outputs": [],
   "source": [
    "medians = train.groupby( columns )['Sales'].median()\n",
    "medians = medians.reset_index()\n",
    "test = pd.read_csv(\"../data/test.csv\", dtype={'StateHoliday': str}, parse_dates=[\"Date\"])\n",
    "test.loc[ test.Open.isnull(), 'Open' ] = 1\n",
    "test['month'] = test['Date'].dt.month\n",
    "test['day'] = test['Date'].dt.day\n",
    "test2 = pd.merge( test, medians, on = columns, how = 'left' )\n",
    "assert( len( test2 ) == len( test ))\n",
    "test2.loc[ test2.Open == 0, 'Sales' ] = 0\n",
    "\n",
    "test2[['Id', 'Sales']].astype(int).to_csv('../data/solution.csv', index=False)"
   ]
  },
  {
   "cell_type": "markdown",
   "metadata": {},
   "source": [
    "## Cross validate"
   ]
  },
  {
   "cell_type": "code",
   "execution_count": 3,
   "metadata": {
    "collapsed": false
   },
   "outputs": [
    {
     "name": "stdout",
     "output_type": "stream",
     "text": [
      "RMSPE=0.189173\n"
     ]
    }
   ],
   "source": [
    "(cv_train, cv_test) = cross_validation.train_test_split(train)\n",
    "dt = tree.DecisionTreeRegressor()\n",
    "model = dt.fit(cv_train[columns], cv_train['Sales'])\n",
    "y = model.predict(cv_test[columns])\n",
    "spe = ((cv_test['Sales'] - y) / cv_test['Sales']) ** 2.0\n",
    "rmspe = np.sqrt(spe.sum() / len(spe))\n",
    "print(\"RMSPE=%f\" % rmspe)"
   ]
  }
 ],
 "metadata": {
  "kernelspec": {
   "display_name": "Python 3",
   "language": "python",
   "name": "python3"
  },
  "language_info": {
   "codemirror_mode": {
    "name": "ipython",
    "version": 3
   },
   "file_extension": ".py",
   "mimetype": "text/x-python",
   "name": "python",
   "nbconvert_exporter": "python",
   "pygments_lexer": "ipython3",
   "version": "3.4.3"
  }
 },
 "nbformat": 4,
 "nbformat_minor": 0
}
