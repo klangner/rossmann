{
 "cells": [
  {
   "cell_type": "code",
   "execution_count": 7,
   "metadata": {
    "collapsed": true
   },
   "outputs": [],
   "source": [
    "import pandas as pd\n",
    "import numpy as np"
   ]
  },
  {
   "cell_type": "markdown",
   "metadata": {},
   "source": [
    "## Calculate median value based on training set"
   ]
  },
  {
   "cell_type": "code",
   "execution_count": 8,
   "metadata": {
    "collapsed": false
   },
   "outputs": [],
   "source": [
    "train = pd.read_csv(\"../data/train.csv\", dtype={'StateHoliday': str}, parse_dates=[\"Date\"])\n",
    "train = train.loc[train.Sales > 0]\n",
    "train['year'] = train['Date'].dt.year\n",
    "train['month'] = train['Date'].dt.month\n",
    "train['day'] = train['Date'].dt.day\n",
    "columns = ['Store', 'DayOfWeek', 'Promo']"
   ]
  },
  {
   "cell_type": "markdown",
   "metadata": {},
   "source": [
    "## Prepare solution data with median value"
   ]
  },
  {
   "cell_type": "code",
   "execution_count": 9,
   "metadata": {
    "collapsed": false
   },
   "outputs": [],
   "source": [
    "medians = train.groupby( columns )['Sales'].median()\n",
    "medians = medians.reset_index()\n",
    "test = pd.read_csv(\"../data/test.csv\", dtype={'StateHoliday': str}, parse_dates=[\"Date\"])\n",
    "test.loc[ test.Open.isnull(), 'Open' ] = 1\n",
    "test['year'] = test['Date'].dt.year\n",
    "test['month'] = test['Date'].dt.month\n",
    "test['day'] = test['Date'].dt.day\n",
    "test2 = pd.merge( test, medians, on = columns, how = 'left' )\n",
    "assert( len( test2 ) == len( test ))\n",
    "test2.loc[ test2.Open == 0, 'Sales' ] = 0\n",
    "\n",
    "test2[['Id', 'Sales']].astype(int).to_csv('../data/solution.csv', index=False)"
   ]
  },
  {
   "cell_type": "markdown",
   "metadata": {},
   "source": [
    "## Cross validate"
   ]
  },
  {
   "cell_type": "code",
   "execution_count": 15,
   "metadata": {
    "collapsed": false
   },
   "outputs": [
    {
     "name": "stdout",
     "output_type": "stream",
     "text": [
      "RMSPE=0.176005\n"
     ]
    }
   ],
   "source": [
    "(cv_train, cv_test) = cross_validation.train_test_split(train)\n",
    "cv_medians = cv_train.groupby( columns )['Sales'].median()\n",
    "cv_medians = cv_medians.reset_index()\n",
    "cv_medians.rename(columns={'Sales': 'Sales2'}, inplace=True)\n",
    "cv_test = pd.merge( cv_test, cv_medians, on = columns, how = 'left' )\n",
    "\n",
    "spe = ((cv_test['Sales']-cv_test['Sales2'])/cv_test['Sales'])**2.0\n",
    "mspe = spe.sum()/len(spe)\n",
    "rmspe = np.sqrt(mspe)\n",
    "print(\"RMSPE=%f\" % rmspe)"
   ]
  }
 ],
 "metadata": {
  "kernelspec": {
   "display_name": "Python 3",
   "language": "python",
   "name": "python3"
  },
  "language_info": {
   "codemirror_mode": {
    "name": "ipython",
    "version": 3
   },
   "file_extension": ".py",
   "mimetype": "text/x-python",
   "name": "python",
   "nbconvert_exporter": "python",
   "pygments_lexer": "ipython3",
   "version": "3.4.3"
  }
 },
 "nbformat": 4,
 "nbformat_minor": 0
}
