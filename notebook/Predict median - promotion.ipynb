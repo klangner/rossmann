{
 "cells": [
  {
   "cell_type": "code",
   "execution_count": 1,
   "metadata": {
    "collapsed": true
   },
   "outputs": [],
   "source": [
    "import pandas as pd\n",
    "import numpy as np\n",
    "from sklearn import cross_validation"
   ]
  },
  {
   "cell_type": "markdown",
   "metadata": {},
   "source": [
    "\n",
    "## Calculate median value based on training set"
   ]
  },
  {
   "cell_type": "code",
   "execution_count": 6,
   "metadata": {
    "collapsed": false
   },
   "outputs": [
    {
     "name": "stdout",
     "output_type": "stream",
     "text": [
      "       Sales\n",
      "Promo       \n",
      "0       5459\n",
      "1       7650\n"
     ]
    },
    {
     "data": {
      "text/plain": [
       "[5459, 7650]"
      ]
     },
     "execution_count": 6,
     "metadata": {},
     "output_type": "execute_result"
    }
   ],
   "source": [
    "train = pd.read_csv(\"../data/train.csv\", dtype={'StateHoliday': str})\n",
    "train = train[train['Sales'] > 0]\n",
    "df = train[['Promo', 'Sales']].groupby('Promo').median()\n",
    "promo_median = list(df['Sales'])\n",
    "promo_median"
   ]
  },
  {
   "cell_type": "markdown",
   "metadata": {},
   "source": [
    "## Prepare solution data with median value"
   ]
  },
  {
   "cell_type": "code",
   "execution_count": 8,
   "metadata": {
    "collapsed": false
   },
   "outputs": [],
   "source": [
    "test = pd.read_csv(\"../data/test.csv\", dtype={'StateHoliday': str})\n",
    "test['Sales'] = test['Promo'].map(lambda x: dowm[x-1])\n",
    "test.to_csv('../data/solution.csv', columns=['Id', 'Sales'], index=False)"
   ]
  },
  {
   "cell_type": "markdown",
   "metadata": {},
   "source": [
    "## Cross validate"
   ]
  },
  {
   "cell_type": "code",
   "execution_count": 5,
   "metadata": {
    "collapsed": false
   },
   "outputs": [
    {
     "name": "stdout",
     "output_type": "stream",
     "text": [
      "[5458, 7649]\n",
      "RMSPE=0.706968\n"
     ]
    },
    {
     "data": {
      "text/html": [
       "<div>\n",
       "<table border=\"1\" class=\"dataframe\">\n",
       "  <thead>\n",
       "    <tr style=\"text-align: right;\">\n",
       "      <th></th>\n",
       "      <th>Store</th>\n",
       "      <th>DayOfWeek</th>\n",
       "      <th>Date</th>\n",
       "      <th>Sales</th>\n",
       "      <th>Customers</th>\n",
       "      <th>Open</th>\n",
       "      <th>Promo</th>\n",
       "      <th>StateHoliday</th>\n",
       "      <th>SchoolHoliday</th>\n",
       "    </tr>\n",
       "  </thead>\n",
       "  <tbody>\n",
       "    <tr>\n",
       "      <th>740060</th>\n",
       "      <td>486</td>\n",
       "      <td>5</td>\n",
       "      <td>2013-09-06</td>\n",
       "      <td>3206</td>\n",
       "      <td>436</td>\n",
       "      <td>1</td>\n",
       "      <td>0</td>\n",
       "      <td>0</td>\n",
       "      <td>0</td>\n",
       "    </tr>\n",
       "    <tr>\n",
       "      <th>479429</th>\n",
       "      <td>765</td>\n",
       "      <td>1</td>\n",
       "      <td>2014-04-28</td>\n",
       "      <td>10620</td>\n",
       "      <td>852</td>\n",
       "      <td>1</td>\n",
       "      <td>1</td>\n",
       "      <td>0</td>\n",
       "      <td>0</td>\n",
       "    </tr>\n",
       "    <tr>\n",
       "      <th>368664</th>\n",
       "      <td>536</td>\n",
       "      <td>2</td>\n",
       "      <td>2014-08-12</td>\n",
       "      <td>7004</td>\n",
       "      <td>771</td>\n",
       "      <td>1</td>\n",
       "      <td>0</td>\n",
       "      <td>0</td>\n",
       "      <td>1</td>\n",
       "    </tr>\n",
       "    <tr>\n",
       "      <th>411670</th>\n",
       "      <td>1021</td>\n",
       "      <td>6</td>\n",
       "      <td>2014-06-28</td>\n",
       "      <td>9829</td>\n",
       "      <td>1101</td>\n",
       "      <td>1</td>\n",
       "      <td>0</td>\n",
       "      <td>0</td>\n",
       "      <td>0</td>\n",
       "    </tr>\n",
       "    <tr>\n",
       "      <th>939394</th>\n",
       "      <td>235</td>\n",
       "      <td>1</td>\n",
       "      <td>2013-03-11</td>\n",
       "      <td>4305</td>\n",
       "      <td>452</td>\n",
       "      <td>1</td>\n",
       "      <td>0</td>\n",
       "      <td>0</td>\n",
       "      <td>0</td>\n",
       "    </tr>\n",
       "    <tr>\n",
       "      <th>696669</th>\n",
       "      <td>580</td>\n",
       "      <td>2</td>\n",
       "      <td>2013-10-15</td>\n",
       "      <td>7560</td>\n",
       "      <td>1293</td>\n",
       "      <td>1</td>\n",
       "      <td>0</td>\n",
       "      <td>0</td>\n",
       "      <td>1</td>\n",
       "    </tr>\n",
       "    <tr>\n",
       "      <th>364484</th>\n",
       "      <td>10</td>\n",
       "      <td>6</td>\n",
       "      <td>2014-08-16</td>\n",
       "      <td>4478</td>\n",
       "      <td>464</td>\n",
       "      <td>1</td>\n",
       "      <td>0</td>\n",
       "      <td>0</td>\n",
       "      <td>1</td>\n",
       "    </tr>\n",
       "    <tr>\n",
       "      <th>306772</th>\n",
       "      <td>325</td>\n",
       "      <td>5</td>\n",
       "      <td>2014-10-17</td>\n",
       "      <td>4441</td>\n",
       "      <td>501</td>\n",
       "      <td>1</td>\n",
       "      <td>0</td>\n",
       "      <td>0</td>\n",
       "      <td>1</td>\n",
       "    </tr>\n",
       "    <tr>\n",
       "      <th>871480</th>\n",
       "      <td>336</td>\n",
       "      <td>6</td>\n",
       "      <td>2013-05-11</td>\n",
       "      <td>11600</td>\n",
       "      <td>1830</td>\n",
       "      <td>1</td>\n",
       "      <td>0</td>\n",
       "      <td>0</td>\n",
       "      <td>0</td>\n",
       "    </tr>\n",
       "    <tr>\n",
       "      <th>409251</th>\n",
       "      <td>832</td>\n",
       "      <td>1</td>\n",
       "      <td>2014-06-30</td>\n",
       "      <td>9802</td>\n",
       "      <td>684</td>\n",
       "      <td>1</td>\n",
       "      <td>1</td>\n",
       "      <td>0</td>\n",
       "      <td>0</td>\n",
       "    </tr>\n",
       "  </tbody>\n",
       "</table>\n",
       "</div>"
      ],
      "text/plain": [
       "        Store  DayOfWeek        Date  Sales  Customers  Open  Promo  \\\n",
       "740060    486          5  2013-09-06   3206        436     1      0   \n",
       "479429    765          1  2014-04-28  10620        852     1      1   \n",
       "368664    536          2  2014-08-12   7004        771     1      0   \n",
       "411670   1021          6  2014-06-28   9829       1101     1      0   \n",
       "939394    235          1  2013-03-11   4305        452     1      0   \n",
       "696669    580          2  2013-10-15   7560       1293     1      0   \n",
       "364484     10          6  2014-08-16   4478        464     1      0   \n",
       "306772    325          5  2014-10-17   4441        501     1      0   \n",
       "871480    336          6  2013-05-11  11600       1830     1      0   \n",
       "409251    832          1  2014-06-30   9802        684     1      1   \n",
       "\n",
       "       StateHoliday  SchoolHoliday  \n",
       "740060            0              0  \n",
       "479429            0              0  \n",
       "368664            0              1  \n",
       "411670            0              0  \n",
       "939394            0              0  \n",
       "696669            0              1  \n",
       "364484            0              1  \n",
       "306772            0              1  \n",
       "871480            0              0  \n",
       "409251            0              0  "
      ]
     },
     "execution_count": 5,
     "metadata": {},
     "output_type": "execute_result"
    }
   ],
   "source": [
    "(cv_train, cv_test) = cross_validation.train_test_split(train)\n",
    "df = cv_train[['Promo', 'Sales']].groupby('Promo').median()\n",
    "dowm = list(df['Sales'])\n",
    "print(dowm)\n",
    "y = cv_test['Promo'].map(lambda x: dowm[x-1])\n",
    "spe = ((cv_test['Sales']-y)/cv_test['Sales'])**2.0\n",
    "mspe = spe.sum()/len(spe)\n",
    "rmspe = np.sqrt(mspe)\n",
    "print(\"RMSPE=%f\" % rmspe)\n",
    "cv_test.head(10)"
   ]
  }
 ],
 "metadata": {
  "kernelspec": {
   "display_name": "Python 3",
   "language": "python",
   "name": "python3"
  },
  "language_info": {
   "codemirror_mode": {
    "name": "ipython",
    "version": 3
   },
   "file_extension": ".py",
   "mimetype": "text/x-python",
   "name": "python",
   "nbconvert_exporter": "python",
   "pygments_lexer": "ipython3",
   "version": "3.4.3"
  }
 },
 "nbformat": 4,
 "nbformat_minor": 0
}
